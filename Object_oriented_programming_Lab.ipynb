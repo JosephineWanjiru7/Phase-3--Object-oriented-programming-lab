{
  "cells": [
    {
      "cell_type": "markdown",
      "metadata": {
        "deletable": false,
        "editable": false,
        "nbgrader": {
          "cell_type": "markdown",
          "checksum": "7ee9922008d96d412bc401887a3ac7e1",
          "grade": false,
          "grade_id": "d6738adba0561611b83233425ec2d5c6",
          "locked": true,
          "schema_version": 3,
          "solution": false,
          "task": false
        },
        "id": "DDybgBrPi9Ka"
      },
      "source": [
        "## Object Oriented Programming\n",
        "\n",
        "In this exercise you will primarily be exploring a Pokemon dataset. Pokemon are fictional creatures from the [Nintendo franchise](https://en.wikipedia.org/wiki/Pok%C3%A9mon) of the same name.\n",
        "\n",
        "Some Pokemon facts that might be useful:\n",
        "* The word \"pokemon\" is both singular and plural. You may refer to \"one pokemon\" or \"many pokemon\".\n",
        "* Pokemon have attributes such as a name, weight, and height.\n",
        "* Pokemon have one or multiple \"types\". A type is something like \"electric\", \"water\", \"ghost\", or \"normal\" that indicates the abilities that pokemon may possess.\n",
        "* The humans who collect pokemon are called \"trainers\".\n",
        "\n",
        "As a pokemon trainer we want to make sure our pokemon are performing at their peak. To measure this, we want to calculate a pokemon's Body Mass Index (or BMI). This is a statistic calculated using the pokemon's height and weight.\n",
        "\n",
        "To help with this task we we will create Pokemon objects that methods can be called on.\n",
        "\n",
        "You'll be working with following dictionaries to create the `Pokemon` objects"
      ]
    },
    {
      "cell_type": "code",
      "execution_count": null,
      "metadata": {
        "deletable": false,
        "editable": false,
        "nbgrader": {
          "cell_type": "code",
          "checksum": "8758a0c85f9ed6f620e2d24d5773d6f9",
          "grade": false,
          "grade_id": "af188c75a93db33e7f440b219943a3f9",
          "locked": true,
          "schema_version": 3,
          "solution": false,
          "task": false
        },
        "id": "eN5lp_rCi9Ke"
      },
      "outputs": [],
      "source": [
        "# Run this cell without changes\n",
        "bulbasaur_data = {\n",
        "    \"name\": 'bulbasaur',\n",
        "    \"weight\": 69,\n",
        "    \"height\": 7,\n",
        "    \"base_experience\": 64,\n",
        "    \"types\": [\"grass\", \"poison\"]\n",
        "}\n",
        "charmander_data = {\n",
        "    \"name\": 'charmander',\n",
        "    \"weight\": 85,\n",
        "    \"height\": 6,\n",
        "    \"base_experience\": 62,\n",
        "    \"types\": [\"fire\"]\n",
        "}\n",
        "squirtle_data = {\n",
        "    \"name\": 'squirtle',\n",
        "    \"weight\": 90,\n",
        "    \"height\": 5,\n",
        "    \"base_experience\": 63,\n",
        "    \"types\": [\"water\"]\n",
        "}"
      ]
    },
    {
      "cell_type": "markdown",
      "metadata": {
        "deletable": false,
        "editable": false,
        "nbgrader": {
          "cell_type": "markdown",
          "checksum": "b857c67092b6d8c546de8d97302d74ec",
          "grade": false,
          "grade_id": "9958eac5a5be407bd97172281b582f68",
          "locked": true,
          "schema_version": 3,
          "solution": false,
          "task": false
        },
        "id": "NgJR-F5Hi9Kg"
      },
      "source": [
        "### 1. Creating a Class\n",
        "\n",
        "Create a class called `Pokemon` with an `__init__` method.\n",
        "\n",
        "Along with the necessary `self` parameter, the `__init__` method should\n",
        "take in `data` as a parameter.\n",
        "\n",
        "With the idea that one of the dictionaries above will be passed in as `data`,\n",
        "assign these specific attributes within the `__init__` method:\n",
        "\n",
        "* `name` : value from the 'name' key of the dictionary passed in `data`\n",
        "* `weight`: value from the 'weight' key of the dictionary passed in `data`\n",
        "* `height`: value from the 'height' key of the dictionary passed in `data`"
      ]
    },
    {
      "cell_type": "code",
      "execution_count": null,
      "metadata": {
        "deletable": false,
        "nbgrader": {
          "cell_type": "code",
          "checksum": "e7cc0138292f4cca788ee2aae41407bc",
          "grade": false,
          "grade_id": "a3c7486e597da698c495a7e9019cf08b",
          "locked": false,
          "schema_version": 3,
          "solution": true,
          "task": false
        },
        "id": "LwI-AFfqi9Kh"
      },
      "outputs": [],
      "source": [
        "# Create your class below with the correct syntax, including an __init__ method.\n",
        "\n",
        "# YOUR CODE HERE\n",
        "class Pokemon:\n",
        "  def __init__(self, data):\n",
        "        self.name = data.get('name')\n",
        "        self.weight = data.get('weight')\n",
        "        self.height = data.get('height')\n",
        "        self.base_experience = data.get('base_experience')\n",
        "        self.types = data.get('types')"
      ]
    },
    {
      "cell_type": "code",
      "execution_count": null,
      "metadata": {
        "deletable": false,
        "editable": false,
        "nbgrader": {
          "cell_type": "code",
          "checksum": "42abcd5da65acdedd60dab12e4cecd48",
          "grade": true,
          "grade_id": "eeed2f8de21f67ce0a7c2b163ce7430d",
          "locked": true,
          "points": 1,
          "schema_version": 3,
          "solution": false,
          "task": false
        },
        "id": "i-xrEz1vi9Ki"
      },
      "outputs": [],
      "source": [
        "# PUT ALL WORK FOR THE ABOVE QUESTION ABOVE THIS CELL\n",
        "# THIS UNALTERABLE CELL CONTAINS HIDDEN TESTS\n",
        "\n",
        "# Pokemon should be a class that exists in this namespace\n",
        "assert type(Pokemon) == type\n"
      ]
    },
    {
      "cell_type": "markdown",
      "metadata": {
        "deletable": false,
        "editable": false,
        "nbgrader": {
          "cell_type": "markdown",
          "checksum": "bd900fef075ffac6124e017c32f7d386",
          "grade": false,
          "grade_id": "1295bca9979391d54e03a0999127b3d6",
          "locked": true,
          "schema_version": 3,
          "solution": false,
          "task": false
        },
        "id": "YGa8bYm5i9Kj"
      },
      "source": [
        "    \n",
        "### 2. Instantiating Objects\n",
        "\n",
        "Using the `bulbasaur_data`, `charmander_data` and `squirtle_data` variables, create the corresponding pokemon objects."
      ]
    },
    {
      "cell_type": "code",
      "execution_count": null,
      "metadata": {
        "deletable": false,
        "nbgrader": {
          "cell_type": "code",
          "checksum": "91c9656658b5f2a2746979bf0214895f",
          "grade": false,
          "grade_id": "48e5fe8a1075f95b1a9b46caedfbfc37",
          "locked": false,
          "schema_version": 3,
          "solution": true,
          "task": false
        },
        "id": "zZXzxUrAi9Kl",
        "outputId": "a56cd873-6b4f-4794-baec-14fed47a1c66",
        "colab": {
          "base_uri": "https://localhost:8080/"
        }
      },
      "outputs": [
        {
          "output_type": "stream",
          "name": "stdout",
          "text": [
            "Name: bulbasaur\n",
            "Weight: 69\n",
            "Height: 7\n",
            "\n",
            "\n",
            "Name: charmander\n",
            "Weight: 85\n",
            "Height: 6\n",
            "\n",
            "\n",
            "Name: squirtle\n",
            "Weight: 90\n",
            "Height: 5\n",
            "\n",
            "\n"
          ]
        }
      ],
      "source": [
        "# Replace None with appropriate code\n",
        "# Creating Pokemon objects\n",
        "bulbasaur = Pokemon(bulbasaur_data)\n",
        "charmander = Pokemon(charmander_data)\n",
        "squirtle = Pokemon(squirtle_data)\n",
        "\n",
        "# Accessing attributes\n",
        "#print(\"Bulbasaur - Name:\", bulbasaur.name)\n",
        "#print(\"Charmander - Weight:\", charmander.weight)\n",
        "#print(\"Squirtle - Types:\", squirtle.types)\n",
        "\n",
        "# YOUR CODE HERE\n",
        "#raise NotImplementedError()\n",
        "\n",
        "# This code will test your implementation. Make sure the values printed\n",
        "# match the dictionaries above!\n",
        "def print_pokeinfo(pkmn):\n",
        "    print('Name: ' + pkmn.name)\n",
        "    print('Weight: ' + str(pkmn.weight))\n",
        "    print('Height: ' + str(pkmn.height))\n",
        "    print('\\n')\n",
        "\n",
        "print_pokeinfo(bulbasaur)\n",
        "print_pokeinfo(charmander)\n",
        "print_pokeinfo(squirtle)"
      ]
    },
    {
      "cell_type": "code",
      "execution_count": null,
      "metadata": {
        "deletable": false,
        "editable": false,
        "nbgrader": {
          "cell_type": "code",
          "checksum": "8da32c7fa7b319d02b7a002eaeb97163",
          "grade": true,
          "grade_id": "d858684ed54b6d901e6879ec5297a21b",
          "locked": true,
          "points": 1,
          "schema_version": 3,
          "solution": false,
          "task": false
        },
        "id": "IMhlyirZi9Km"
      },
      "outputs": [],
      "source": [
        "# PUT ALL WORK FOR THE ABOVE QUESTION ABOVE THIS CELL\n",
        "# THIS UNALTERABLE CELL CONTAINS HIDDEN TESTS\n",
        "\n",
        "assert type(bulbasaur) == Pokemon\n",
        "assert type(charmander) == Pokemon\n",
        "assert type(squirtle) == Pokemon\n"
      ]
    },
    {
      "cell_type": "markdown",
      "metadata": {
        "deletable": false,
        "editable": false,
        "nbgrader": {
          "cell_type": "markdown",
          "checksum": "145aa9de07ae173599e83130962bf765",
          "grade": false,
          "grade_id": "cell-1ecb2c77a0178025",
          "locked": true,
          "schema_version": 3,
          "solution": false,
          "task": false
        },
        "id": "8HQkUzLWi9Ko"
      },
      "source": [
        "### 3. Update an instance attribute\n",
        "\n",
        "Using the charmander instance, increase the weight attribute by 5."
      ]
    },
    {
      "cell_type": "code",
      "execution_count": null,
      "metadata": {
        "deletable": false,
        "nbgrader": {
          "cell_type": "code",
          "checksum": "bc462633527b9da63c0e8686e3644ef8",
          "grade": false,
          "grade_id": "cell-7e82657b2cb762a9",
          "locked": false,
          "schema_version": 3,
          "solution": true,
          "task": false
        },
        "id": "7AJjd-jji9Kp",
        "outputId": "ecf6ba03-17b7-4c2d-98ee-dd44b6faa2ee",
        "colab": {
          "base_uri": "https://localhost:8080/"
        }
      },
      "outputs": [
        {
          "output_type": "stream",
          "name": "stdout",
          "text": [
            "Charmander - Updated Weight: 90\n"
          ]
        }
      ],
      "source": [
        "# YOUR CODE HERE\n",
        "#raise NotImplementedError()\n",
        "# Increase the weight attribute by 5\n",
        "charmander.weight += 5\n",
        "\n",
        "# Print the updated weight\n",
        "print(\"Charmander - Updated Weight:\", charmander.weight)\n"
      ]
    },
    {
      "cell_type": "code",
      "execution_count": null,
      "metadata": {
        "deletable": false,
        "editable": false,
        "nbgrader": {
          "cell_type": "code",
          "checksum": "fe6c5c87ab9f67bf6ad6d04c2eef512c",
          "grade": true,
          "grade_id": "cell-4f82e207aa09b98d",
          "locked": true,
          "points": 1,
          "schema_version": 3,
          "solution": false,
          "task": false
        },
        "id": "o1A-j1cvi9Kq"
      },
      "outputs": [],
      "source": [
        "# PUT ALL WORK FOR THE ABOVE QUESTION ABOVE THIS CELL\n",
        "# THIS UNALTERABLE CELL CONTAINS HIDDEN TESTS\n"
      ]
    },
    {
      "cell_type": "markdown",
      "metadata": {
        "deletable": false,
        "editable": false,
        "nbgrader": {
          "cell_type": "markdown",
          "checksum": "777f6b5608c930bd8e49652480078b37",
          "grade": false,
          "grade_id": "bffb182fbd44a7c58bdc9327a4680657",
          "locked": true,
          "schema_version": 3,
          "solution": false,
          "task": false
        },
        "id": "vjQSsY2ci9Kr"
      },
      "source": [
        "### 4. Instance Methods\n",
        "\n",
        "Re-write the class `Pokemon` below, so that it has an instance method called `bmi` that calculates the BMI of a Pokemon.\n",
        "\n",
        "BMI is defined by the formula: $\\frac{weight}{height^{2}}$\n",
        "\n",
        "The BMI should be calculated with weight in **kilograms** and height in **meters**.\n",
        "\n",
        "The height and weight data of Pokemon from the dictionaries above is in **decimeters** and **hectograms**, respectively.\n",
        "\n",
        "You will have to convert the given values of height and weight to kilograms and meters to make the BMI calculations correct.\n",
        "\n",
        "For your convenience, here are the conversions:\n",
        "\n",
        "```\n",
        "1 decimeter = 0.1 meters\n",
        "1 hectogram = 0.1 kilograms\n",
        "```\n",
        "\n",
        "**Don't forget**: since you are changing the `Pokemon` class, you will have to create **new objects** of this **new class**.\n",
        "\n",
        "If you use the objects created by the first class you wrote, they will not have the `bmi` instance!\n",
        "\n",
        "You can assign these new objects the same names as you assigned the old ones:\n",
        "`bulbasaur`, `charmander` and `squirtle`"
      ]
    },
    {
      "cell_type": "code",
      "source": [
        "# Define the new Pokemon class here\n",
        "class Pokemon:\n",
        "    def __init__(self, name, height_dm, weight_hg):\n",
        "        self.name = name\n",
        "        self.height_dm = height_dm\n",
        "        self.weight_hg = weight_hg\n",
        "\n",
        "    def bmi(self):\n",
        "        # Conversion factors\n",
        "        dm_to_m = 0.1\n",
        "        hg_to_kg = 0.1\n",
        "\n",
        "        # Convert height to meters and weight to kilograms\n",
        "        height_m = self.height_dm * dm_to_m\n",
        "        weight_kg = self.weight_hg * hg_to_kg\n",
        "\n",
        "        # Check for non-zero height to avoid division by zero\n",
        "        if height_m == 0:\n",
        "            return \"Error: Height cannot be zero. Unable to calculate BMI.\"\n",
        "\n",
        "        # Calculate BMI\n",
        "        bmi_value = weight_kg / (height_m ** 2)\n",
        "\n",
        "        return bmi_value\n",
        "\n",
        "# Creating new Pokemon objects with the modified class\n",
        "# Replace None with appropriate code\n",
        "\n",
        "bulbasaur = Pokemon(name=\"Bulbasaur\", height_dm=7, weight_hg=69)\n",
        "charmander = Pokemon(name=\"Charmander\", height_dm=6, weight_hg=85)\n",
        "squirtle = Pokemon(name=\"Squirtle\", height_dm=5, weight_hg=90)\n",
        "\n",
        "# YOUR CODE HERE\n",
        "#raise NotImplementedError()\n",
        "\n",
        "# This code will test your implementation\n",
        "print(bulbasaur.bmi())\n",
        "print(charmander.bmi())\n",
        "print(squirtle.bmi())\n",
        "\n",
        "# Calculate and print BMI for each Pokemon\n",
        "#print(f\"{bulbasaur.name}'s BMI: {bulbasaur.bmi()}\")\n",
        "#print(f\"{charmander.name}'s BMI: {charmander.bmi()}\")\n",
        "#print(f\"{squirtle.name}'s BMI: {squirtle.bmi()}\")\n"
      ],
      "metadata": {
        "id": "wwtQcj5T5g1S",
        "outputId": "d1dc5de7-1b3c-4eb1-da38-58b0fe619451",
        "colab": {
          "base_uri": "https://localhost:8080/"
        }
      },
      "execution_count": null,
      "outputs": [
        {
          "output_type": "stream",
          "name": "stdout",
          "text": [
            "14.081632653061222\n",
            "23.611111111111104\n",
            "36.0\n"
          ]
        }
      ]
    },
    {
      "cell_type": "code",
      "execution_count": null,
      "metadata": {
        "deletable": false,
        "editable": false,
        "nbgrader": {
          "cell_type": "code",
          "checksum": "b6520ccac8b8f2159861f6e4d33e8554",
          "grade": true,
          "grade_id": "4bdd59541fbf9055ee7815c7e797521c",
          "locked": true,
          "points": 2,
          "schema_version": 3,
          "solution": false,
          "task": false
        },
        "id": "2xJA0ug5i9Ks"
      },
      "outputs": [],
      "source": [
        "# PUT ALL WORK FOR THE ABOVE QUESTION ABOVE THIS CELL\n",
        "# THIS UNALTERABLE CELL CONTAINS HIDDEN TESTS\n",
        "\n",
        "# bulbasaur.bmi should be a method on an instance of type Pokemon\n",
        "import types\n",
        "assert type(bulbasaur.bmi) == types.MethodType\n",
        "# bulbasaur.bmi() should return a floating point number\n",
        "assert type(bulbasaur.bmi()) == float"
      ]
    }
  ],
  "metadata": {
    "kernelspec": {
      "display_name": "Python 3 (ipykernel)",
      "language": "python",
      "name": "python3"
    },
    "language_info": {
      "codemirror_mode": {
        "name": "ipython",
        "version": 3
      },
      "file_extension": ".py",
      "mimetype": "text/x-python",
      "name": "python",
      "nbconvert_exporter": "python",
      "pygments_lexer": "ipython3",
      "version": "3.10.9"
    },
    "colab": {
      "provenance": []
    }
  },
  "nbformat": 4,
  "nbformat_minor": 0
}